{
 "cells": [
  {
   "cell_type": "markdown",
   "metadata": {},
   "source": [
    "### Remove Duplicates from a list of list (nested list)\n",
    "a) Using set & tuple<br>\n",
    "b) Using set, tuple & map\n",
    "\n",
    "### Remove Duplicates from a list of list (nested list) and return sorted list items\n",
    "c) Using sorted, set & tuple<br>\n",
    "d) Using sorted, set, tuple & map"
   ]
  },
  {
   "cell_type": "code",
   "execution_count": 16,
   "metadata": {},
   "outputs": [
    {
     "data": {
      "text/plain": [
       "[[1, 2, 3], [0, 4, 2], [2, 1, 2], [3, 4, 5], [1, 2, 3], [7, 8, 9]]"
      ]
     },
     "execution_count": 16,
     "metadata": {},
     "output_type": "execute_result"
    }
   ],
   "source": [
    "#Given list\n",
    "mylist = [[1,2,3], [0,4,2],[2,1,2], [3,4,5], [1,2,3], [7,8,9]]\n",
    "mylist"
   ]
  },
  {
   "cell_type": "code",
   "execution_count": 24,
   "metadata": {},
   "outputs": [
    {
     "data": {
      "text/plain": [
       "[(0, 4, 2), (7, 8, 9), (1, 2, 3), (2, 1, 2), (3, 4, 5)]"
      ]
     },
     "execution_count": 24,
     "metadata": {},
     "output_type": "execute_result"
    }
   ],
   "source": [
    "#a) Using set & tuple\n",
    "list(set(tuple(i) for i in mylist))"
   ]
  },
  {
   "cell_type": "code",
   "execution_count": 34,
   "metadata": {},
   "outputs": [
    {
     "data": {
      "text/plain": [
       "[(0, 4, 2), (7, 8, 9), (1, 2, 3), (2, 1, 2), (3, 4, 5)]"
      ]
     },
     "execution_count": 34,
     "metadata": {},
     "output_type": "execute_result"
    }
   ],
   "source": [
    "#b) Using set, tuple & map\n",
    "list(set(map(lambda i: tuple((i)), mylist))) "
   ]
  },
  {
   "cell_type": "code",
   "execution_count": 38,
   "metadata": {},
   "outputs": [
    {
     "data": {
      "text/plain": [
       "[(0, 2, 4), (1, 2, 2), (1, 2, 3), (3, 4, 5), (7, 8, 9)]"
      ]
     },
     "execution_count": 38,
     "metadata": {},
     "output_type": "execute_result"
    }
   ],
   "source": [
    "#c) Using sorted, set & tuple\n",
    "sorted(list(set(tuple(sorted(i)) for i in mylist)))"
   ]
  },
  {
   "cell_type": "code",
   "execution_count": 45,
   "metadata": {},
   "outputs": [
    {
     "data": {
      "text/plain": [
       "[(0, 2, 4), (1, 2, 2), (1, 2, 3), (3, 4, 5), (7, 8, 9)]"
      ]
     },
     "execution_count": 45,
     "metadata": {},
     "output_type": "execute_result"
    }
   ],
   "source": [
    "#c) Using sorted, set & tuple\n",
    "sorted(list(set(map(lambda i: tuple(sorted(i)), mylist))))"
   ]
  },
  {
   "cell_type": "code",
   "execution_count": null,
   "metadata": {},
   "outputs": [],
   "source": []
  }
 ],
 "metadata": {
  "kernelspec": {
   "display_name": "Python 3",
   "language": "python",
   "name": "python3"
  },
  "language_info": {
   "codemirror_mode": {
    "name": "ipython",
    "version": 3
   },
   "file_extension": ".py",
   "mimetype": "text/x-python",
   "name": "python",
   "nbconvert_exporter": "python",
   "pygments_lexer": "ipython3",
   "version": "3.6.5"
  }
 },
 "nbformat": 4,
 "nbformat_minor": 2
}
