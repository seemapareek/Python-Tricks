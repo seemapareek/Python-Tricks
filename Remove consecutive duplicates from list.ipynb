{
 "cells": [
  {
   "cell_type": "markdown",
   "metadata": {},
   "source": [
    "### Remove consecutive duplicates from list\n",
    "a) Using Loop<br>\n",
    "b) Using List comprehension<br>\n",
    "c) Using groupby and list compehension<br>\n",
    "d) Using zip_longest and list comprehension"
   ]
  },
  {
   "cell_type": "code",
   "execution_count": 9,
   "metadata": {},
   "outputs": [
    {
     "data": {
      "text/plain": [
       "[1, 4, 4, 4, 5, 6, 7, 4, 3, 3, 9]"
      ]
     },
     "execution_count": 9,
     "metadata": {},
     "output_type": "execute_result"
    }
   ],
   "source": [
    "#Given list\n",
    "mylist = [1, 4, 4, 4, 5, 6, 7, 4, 3, 3, 9] \n",
    "mylist"
   ]
  },
  {
   "cell_type": "code",
   "execution_count": 10,
   "metadata": {},
   "outputs": [
    {
     "data": {
      "text/plain": [
       "[1, 4, 5, 6, 7, 4, 3, 9]"
      ]
     },
     "execution_count": 10,
     "metadata": {},
     "output_type": "execute_result"
    }
   ],
   "source": [
    "# a) Using Loop\n",
    "newlist =[]\n",
    "for i, item in enumerate(mylist):\n",
    "    if mylist[i-1] != item:\n",
    "        newlist.append(item)\n",
    "newlist"
   ]
  },
  {
   "cell_type": "code",
   "execution_count": 11,
   "metadata": {},
   "outputs": [
    {
     "data": {
      "text/plain": [
       "[1, 4, 5, 6, 7, 4, 3, 9]"
      ]
     },
     "execution_count": 11,
     "metadata": {},
     "output_type": "execute_result"
    }
   ],
   "source": [
    "# b) Using List comprehension\n",
    "[item for i,item in enumerate(mylist) if mylist[i-1] != item]"
   ]
  },
  {
   "cell_type": "code",
   "execution_count": 17,
   "metadata": {},
   "outputs": [
    {
     "data": {
      "text/plain": [
       "[1, 4, 5, 6, 7, 4, 3, 9]"
      ]
     },
     "execution_count": 17,
     "metadata": {},
     "output_type": "execute_result"
    }
   ],
   "source": [
    "# c) Using groupby and list compehension\n",
    "# groupby :- makes an iterator that returns consecutive keys and groups from the iterable.  \n",
    "from itertools import groupby  \n",
    "[i[0] for i in groupby(mylist)] "
   ]
  },
  {
   "cell_type": "code",
   "execution_count": 22,
   "metadata": {},
   "outputs": [
    {
     "data": {
      "text/plain": [
       "[1, 4, 5, 6, 7, 4, 3, 9]"
      ]
     },
     "execution_count": 22,
     "metadata": {},
     "output_type": "execute_result"
    }
   ],
   "source": [
    "# d) Using zip_longest and list comprehension\n",
    "## Return a zip_longest object whose .__next__() method returns a tuple where the i-th element comes from the i-th iterable argument.  \n",
    "from itertools import zip_longest \n",
    "[i for i, j in zip_longest(mylist, mylist[1:]) if i != j] "
   ]
  },
  {
   "cell_type": "code",
   "execution_count": null,
   "metadata": {},
   "outputs": [],
   "source": []
  }
 ],
 "metadata": {
  "kernelspec": {
   "display_name": "Python 3",
   "language": "python",
   "name": "python3"
  },
  "language_info": {
   "codemirror_mode": {
    "name": "ipython",
    "version": 3
   },
   "file_extension": ".py",
   "mimetype": "text/x-python",
   "name": "python",
   "nbconvert_exporter": "python",
   "pygments_lexer": "ipython3",
   "version": "3.6.5"
  }
 },
 "nbformat": 4,
 "nbformat_minor": 2
}
